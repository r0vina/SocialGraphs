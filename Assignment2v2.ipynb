{
 "cells": [
  {
   "cell_type": "markdown",
   "metadata": {},
   "source": [
    "# Formalia:\n",
    "\n",
    "Please read the [assignment overview page](https://github.com/SocialComplexityLab/socialgraphs2024/wiki/Assignments) carefully before proceeding. This page contains information about formatting (including formats etc), group sizes, and many other aspects of handing in the assignment. \n",
    "\n",
    "_If you fail to follow these simple instructions, it will negatively impact your grade!_\n",
    "\n",
    "**Due date and time**: The assignment is due on Tuesday November 5th, 2024 at 23:55. Hand in your IPython notebook file (with extension `.ipynb`) via DTU Learn"
   ]
  },
  {
   "cell_type": "markdown",
   "metadata": {},
   "source": [
    "In the exercises below, I describe the exercises in a general way. Drawing in the right parts of the exercises is part of the assignment. (That way we're helping you get a little bit more ready for the Final Project, where you have to decide what information to include in your report and analysis). \n",
    "\n",
    "\n",
    "# Part 1: Genres and communities and plotting \n",
    "\n",
    "The questions below are based on Lecture 7, part 2.\n",
    "\n",
    "* Write about genres and modularity.\n",
    "* Detect the communities, discuss the value of modularity in comparison to the genres.\n",
    "* Calculate the matrix $D$ and discuss your findings.\n",
    "* Plot the communities and comment on your results.\n",
    "\n",
    "# Part 2: TF-IDF to understand genres and communities \n",
    "\n",
    "The questions below  are based on Lecture 7, part 2 and 3.\n",
    "\n",
    "* Explain the concept of TF-IDF in your own words and how it can help you understand the genres and communities.\n",
    "* Calculate and visualize TF-IDF for the genres and communities.\n",
    "* Use the matrix $D$ (Lecture 7, part 2) to dicusss the difference between the word-clouds between genres and communities.\n",
    "\n",
    "# Part 3: Sentiment of the artists and communities\n",
    "\n",
    "The questions below are based on Lecture 8\n",
    "\n",
    "* Calculate the sentiment of the Artists pages (OK to work with the sub-network of artists-with-genre) and describe your findings using stats and visualization, inspired by the first exercise of week 8.\n",
    "* Discuss the sentiment of the largest communities. Do the findings using TF-IDF during Lecture 7 help you understand your results?"
   ]
  },
  {
   "cell_type": "markdown",
   "metadata": {},
   "source": [
    "\n",
    "## 3.1 Loading and Cleaning Data\n",
    "\n",
    "In this section, we will load and clean two datasets:\n",
    "\n",
    "1. **Genres Data**: A JSON file that contains artists and their associated genres. This data will be used to create a network of artists and genres, helping us understand the relationships between different genres.\n",
    "2. **Sentiment Data**: A tab-delimited text file containing sentiment scores for various words. This data will be used to determine the sentiment associated with each genre, allowing us to calculate the overall sentiment of artists based on the genres they are associated with.\n",
    "\n",
    "We will create a dictionary from the sentiment data for quick lookups of sentiment scores by word. Additionally, we will perform several data cleaning steps to ensure that the data is accurate and ready for analysis, such as handling missing values, removing non-numeric values, and verifying data consistency.\n",
    "\n",
    "\n"
   ]
  },
  {
   "cell_type": "code",
   "execution_count": 27,
   "metadata": {},
   "outputs": [
    {
     "name": "stdout",
     "output_type": "stream",
     "text": [
      "First few artists loaded: [('A Thousand Horses', ['country', 'country rock', 'southern rock']), ('A.P. Carter', ['country', 'folk', 'gospel']), ('Aaron Barker', ['country']), ('Aaron Benward', ['country', 'christian music']), ('Aaron Lewis (musician)', ['alternative metal', 'post-grunge', 'nu metal', 'country rock', 'alternative country'])]\n",
      "First few rows of sentiment data:\n",
      "        word  happiness_rank  happiness_average  happiness_standard_deviation  \\\n",
      "0   laughter               1               8.50                        0.9313   \n",
      "1  happiness               2               8.44                        0.9723   \n",
      "2       love               3               8.42                        1.1082   \n",
      "3      happy               4               8.30                        0.9949   \n",
      "4    laughed               5               8.26                        1.1572   \n",
      "\n",
      "  twitter_rank google_rank nyt_rank lyrics_rank  \n",
      "0         3600          --       --        1728  \n",
      "1         1853        2458       --        1230  \n",
      "2           25         317      328          23  \n",
      "3           65        1372     1313         375  \n",
      "4         3334        3542       --        2332  \n"
     ]
    }
   ],
   "source": [
    "# Importing required libraries\n",
    "import json\n",
    "import pandas as pd\n",
    "import numpy as np\n",
    "import networkx as nx\n",
    "import matplotlib.pyplot as plt\n",
    "from collections import Counter\n",
    "\n",
    "# Load the genres data from a JSON-like text file\n",
    "file_path = 'genres.txt'\n",
    "try:\n",
    "    with open(file_path, 'r', encoding='utf-8') as file:\n",
    "        artist_data = json.load(file)\n",
    "        # Verify the structure of the loaded data\n",
    "        print(\"First few artists loaded:\", list(artist_data.items())[:5])\n",
    "except FileNotFoundError:\n",
    "    print(f\"Error: File '{file_path}' not found. Please check the file path.\")\n",
    "except json.JSONDecodeError:\n",
    "    print(f\"Error: File '{file_path}' is not a valid JSON file.\")\n",
    "\n",
    "# Load sentiment data from a .txt file\n",
    "sentiment_file_path = 'Data_Set_S1.txt'\n",
    "try:\n",
    "    sentiment_df = pd.read_csv(sentiment_file_path, sep='\\t', skiprows=2, encoding='utf-8')\n",
    "    # Display the first few rows to verify the data structure\n",
    "    print(\"First few rows of sentiment data:\")\n",
    "    print(sentiment_df.head())\n",
    "except FileNotFoundError:\n",
    "    print(f\"Error: File '{sentiment_file_path}' not found. Please check the file path.\")\n",
    "except pd.errors.EmptyDataError:\n",
    "    print(f\"Error: File '{sentiment_file_path}' is empty or could not be read.\")\n",
    "\n",
    "# Clean and create a dictionary for sentiment lookup\n",
    "if 'happiness_rank' in sentiment_df.columns and 'word' in sentiment_df.columns:\n",
    "    sentiment_df = sentiment_df.dropna(subset=['happiness_rank'])\n",
    "    sentiment_df['happiness_rank'] = pd.to_numeric(sentiment_df['happiness_rank'], errors='coerce')\n",
    "    sentiment_df = sentiment_df.dropna(subset=['happiness_rank'])\n",
    "    \n",
    "    # Create sentiment lookup dictionary\n",
    "    sentiment_dict = dict(zip(sentiment_df['word'], sentiment_df['happiness_rank'].astype(int)))\n",
    "    if len(sentiment_df['word']) != len(sentiment_dict):\n",
    "        print(\"Warning: Duplicate words detected in sentiment data. Consider further cleaning.\")\n",
    "else:\n",
    "    print(\"Error: Required columns 'word' and 'happiness_rank' are missing from sentiment data.\")\n"
   ]
  },
  {
   "cell_type": "markdown",
   "metadata": {},
   "source": [
    "\n",
    "## Calculating Sentiment Scores for Artists\n",
    "\n",
    "We need to calculate average sentiment scores for each artist based on the genres they are associated with. This will help us understand the general sentiment each artist is associated with based on the type of music they create.\n",
    "\n"
   ]
  },
  {
   "cell_type": "code",
   "execution_count": 28,
   "metadata": {},
   "outputs": [],
   "source": [
    "# Calculate average sentiment scores for each artist\n",
    "artist_sentiment_scores = {}\n",
    "for artist, genres in artist_data.items():\n",
    "    scores = [sentiment_dict[genre] for genre in genres if genre in sentiment_dict]\n",
    "    artist_sentiment_scores[artist] = np.mean(scores) if scores else 0"
   ]
  },
  {
   "cell_type": "markdown",
   "metadata": {},
   "source": [
    "## 3.2 Building the Network Graph and Detecting Communities\n",
    "\n",
    "In this step, we create a network graph where:\n",
    "\n",
    "Nodes represent either artists or genres.\n",
    "Edges connect artists to genres they are associated with.\n",
    "We then use the Girvan-Newman algorithm to detect communities within the network and identify the largest communities."
   ]
  },
  {
   "cell_type": "code",
   "execution_count": null,
   "metadata": {},
   "outputs": [],
   "source": [
    "\n",
    "# Create a network graph\n",
    "G = nx.Graph()\n",
    "\n",
    "# Add artist nodes with sentiment scores\n",
    "for artist, score in artist_sentiment_scores.items():\n",
    "    G.add_node(artist, score=score)\n",
    "\n",
    "# Add edges between artists and genres\n",
    "for artist, genres in artist_data.items():\n",
    "    for genre in genres:\n",
    "        G.add_node(genre)\n",
    "        G.add_edge(artist, genre)\n",
    "\n",
    "# Use Girvan-Newman algorithm for community detection\n",
    "girvan_newman_communities = girvan_newman(G)\n",
    "top_level_communities = next(girvan_newman_communities)\n",
    "communities = [list(community) for community in top_level_communities]\n",
    "\n",
    "# Count and identify the largest communities\n",
    "community_counter = Counter({i: len(community) for i, community in enumerate(communities)})\n",
    "largest_communities = community_counter.most_common(5)\n",
    "print(\"Largest communities:\", largest_communities)\n"
   ]
  },
  {
   "cell_type": "markdown",
   "metadata": {},
   "source": [
    "## Visualizing the Network Graph\n",
    "We will visualize the network graph with the following characteristics:\n",
    "\n",
    "Nodes representing artists are colored by their detected community.\n",
    "The size of the artist nodes is determined by their sentiment score.\n",
    "Genre nodes are visualized in a distinct color.\n"
   ]
  },
  {
   "cell_type": "code",
   "execution_count": null,
   "metadata": {},
   "outputs": [],
   "source": [
    "# Re-assign community ID to each node based on community detection\n",
    "node_to_community = {}\n",
    "for i, community in enumerate(communities):\n",
    "    for node in community:\n",
    "        node_to_community[node] = i\n",
    "\n",
    "# List of the largest communities by community ID and size\n",
    "largest_communities = [(0, 2038), (1, 49), (3, 18), (6, 3), (2, 2)]\n",
    "\n",
    "# Loop through each of the largest communities to create a separate graph for each\n",
    "for community_id, size in largest_communities:\n",
    "    # Get nodes belonging to the current community\n",
    "    community_nodes = [node for node in G.nodes if node_to_community.get(node) == community_id]\n",
    "    \n",
    "    # Create a subgraph for the current community\n",
    "    community_subgraph = G.subgraph(community_nodes)\n",
    "    \n",
    "    # Draw the network for the current community\n",
    "    plt.figure(figsize=(14, 10))\n",
    "    pos = nx.spring_layout(community_subgraph, seed=42, k=0.2)  # Adjust k for spacing\n",
    "    \n",
    "    # Separate artist and genre nodes in the current community\n",
    "    artist_nodes = [node for node in community_nodes if node in artist_sentiment_scores]\n",
    "    genre_nodes = [node for node in community_nodes if node not in artist_sentiment_scores]\n",
    "    \n",
    "    # Determine node sizes for artists based on sentiment scores\n",
    "    max_score = max(artist_sentiment_scores.values(), default=1)\n",
    "    artist_node_sizes = [artist_sentiment_scores.get(node, 0) / max_score * 1000 + 200 for node in artist_nodes]\n",
    "\n",
    "    # Draw artist nodes with a consistent blue color and size\n",
    "    sc = nx.draw_networkx_nodes(community_subgraph, pos, nodelist=artist_nodes,\n",
    "                                node_color='dodgerblue', node_size=artist_node_sizes,\n",
    "                                alpha=0.9, label=\"Artists\")\n",
    "\n",
    "    # Draw genre nodes separately with a smaller size and gray color\n",
    "    nx.draw_networkx_nodes(community_subgraph, pos, nodelist=genre_nodes,\n",
    "                           node_color='lightgray', node_size=150, alpha=0.7, label=\"Genres\")\n",
    "\n",
    "    # Draw edges with reduced opacity for clarity\n",
    "    nx.draw_networkx_edges(community_subgraph, pos, alpha=0.3, width=0.5, edge_color='gray')\n",
    "\n",
    "    # Draw labels for artist nodes only if the community is not Community 0\n",
    "    if community_id != 0:\n",
    "        nx.draw_networkx_labels(community_subgraph, pos, labels={node: node for node in artist_nodes},\n",
    "                                font_size=8, font_family=\"sans-serif\", font_color='black')\n",
    "\n",
    "    # Additional plot settings\n",
    "    plt.axis('off')  # Hide the axis for better visual clarity\n",
    "    plt.title(f\"Artist-Genre Sentiment Network - Community {community_id}\", fontsize=16)\n",
    "    plt.legend()\n",
    "    plt.show()\n"
   ]
  },
  {
   "cell_type": "markdown",
   "metadata": {},
   "source": [
    "\n",
    "\n",
    "The visualization represents the **artist-genre network** for one of the largest communities detected in the network analysis. Here are the key features of the graph:\n",
    "\n",
    "### Artists (Blue Nodes):\n",
    "- Represented by **blue nodes**.\n",
    "- Node size is **proportional to the sentiment score** of the artist. Artists with higher sentiment scores appear larger.\n",
    "- **Labels** are only applied to artist nodes with the exception of community 0 for clarity, and the font size is reduced to minimize overlap.\n",
    "\n",
    "### Genres (Gray Nodes):\n",
    "- Represented by smaller **gray nodes** to distinguish them from artists.\n",
    "- Genre nodes are intentionally kept small to de-emphasize them in the visualization.\n",
    "\n",
    "### Edges:\n",
    "- **Edges connect** artists to the genres they are associated with.\n",
    "- Edges are drawn with **low opacity** to minimize visual clutter and focus attention on nodes rather than connections.\n",
    "\n",
    "### Legend:\n",
    "- The **legend** provides clear differentiation between **Artists** and **Genres**.\n"
   ]
  },
  {
   "cell_type": "markdown",
   "metadata": {},
   "source": [
    "### Sentiment Analysis of Communities\n",
    "\n",
    "We evaluated the **average sentiment score** for the largest communities in our artist-genre network to understand the overall mood associated with each community. Higher average scores indicate positive genre associations, while lower scores suggest neutral or negative tones.\n",
    "\n",
    "#### Original Issue\n",
    "\n",
    "The initial results were problematic:\n",
    "- **Community IDs**: [0, 1, 3, 6, 2]\n",
    "- **Average Sentiments**: [1845.96, 468.0, 0.0, 0.0, 0.0]\n",
    "\n",
    "Communities `0` and `1` had extremely high scores, suggesting calculation errors. Communities `3`, `6`, and `2` had scores of `0.0`, implying either missing data or incorrect sentiment calculations. The error stemmed from improper averaging, where values were aggregated instead of divided by the number of artists.\n",
    "\n",
    "#### Corrected Approach\n",
    "\n",
    "We fixed the sentiment calculation by:\n",
    "- **Proper Averaging**: Summing sentiment scores for all artists in a community and dividing by the number of artists.\n",
    "- **Normalization**: Capping sentiment scores between `0` and `10` to avoid abnormally high values.\n",
    "\n",
    "#### Average Sentiment Score Explained\n",
    "\n",
    "The **average sentiment score** represents the general mood of artists in a community:\n",
    "- **Positive (8.0 - 10.0)**: Genres evoke positive emotions.\n",
    "- **Neutral (5.0 - 7.9)**: Genres have a mixed or balanced tone.\n",
    "- **Negative/Low (0.0 - 4.9)**: Genres evoke less positive or melancholic emotions.\n",
    "\n",
    "#### Updated Results\n",
    "\n",
    "With the corrected approach, average sentiment scores are now within the expected range (0-10), accurately reflecting the mood and genre diversity of each community.\n"
   ]
  },
  {
   "cell_type": "markdown",
   "metadata": {},
   "source": [
    "## Analyzing Sentiment of Largest Communities\n",
    "\n",
    "We analyze the sentiment distribution of the largest detected communities. This helps us understand the overall sentiment of the groups of artists and how their genres contribute to this sentiment."
   ]
  },
  {
   "cell_type": "code",
   "execution_count": null,
   "metadata": {},
   "outputs": [],
   "source": [
    "# Analyze sentiment scores in the largest communities\n",
    "community_sentiments = {}\n",
    "for community_id, _ in largest_communities:\n",
    "    # Gather sentiment scores for artists in the current community\n",
    "    community_artists = [node for node in G.nodes if node_to_community.get(node) == community_id and node in artist_sentiment_scores]\n",
    "    community_sentiments[community_id] = [artist_sentiment_scores[artist] for artist in community_artists]\n",
    "\n",
    "# Display basic stats for each community\n",
    "for community_id, sentiments in community_sentiments.items():\n",
    "    avg_sentiment = np.mean(sentiments) if sentiments else 0\n",
    "    print(f\"Community {community_id}: Average Sentiment = {avg_sentiment:.2f}, Artist Count = {len(sentiments)}\")\n"
   ]
  },
  {
   "cell_type": "markdown",
   "metadata": {},
   "source": [
    "## Discussion on Sentiment and TF-IDF Correlation\n",
    "\n",
    "In this analysis, we explored the relationship between community sentiment scores and TF-IDF values from Lecture 7. Sentiment scores give us insights into the emotional tone of the genres associated with each artist, while TF-IDF helps us understand the importance of specific genres to each community.\n",
    "\n"
   ]
  },
  {
   "cell_type": "code",
   "execution_count": null,
   "metadata": {},
   "outputs": [],
   "source": [
    "# Display Top Genres for Each Community\n",
    "print(\"Top Genres in Largest Communities:\")\n",
    "for community_id, _ in largest_communities:\n",
    "    community_genres = [genre for artist, genres in artist_data.items()\n",
    "                        if node_to_community.get(artist) == community_id\n",
    "                        for genre in genres]\n",
    "    genre_counter = Counter(community_genres)\n",
    "    top_genres = genre_counter.most_common(5)\n",
    "    print(f\"Community {community_id} Top Genres: {top_genres}\")\n",
    "\n",
    "# Plot Average Sentiment per Community\n",
    "avg_sentiments = [np.mean(community_sentiments[community_id]) for community_id, _ in largest_communities]\n",
    "\n",
    "plt.figure(figsize=(10, 5))\n",
    "plt.bar(range(len(avg_sentiments)), avg_sentiments, color='skyblue')\n",
    "plt.xlabel('Community ID')\n",
    "plt.ylabel('Average Sentiment Score')\n",
    "plt.xticks(range(len(avg_sentiments)), [f'Community {community_id}' for community_id, _ in largest_communities])\n",
    "plt.title('Average Sentiment Score for Largest Communities')\n",
    "plt.show()\n"
   ]
  },
  {
   "cell_type": "markdown",
   "metadata": {},
   "source": [
    "\n"
   ]
  },
  {
   "cell_type": "markdown",
   "metadata": {},
   "source": [
    "\n",
    "## Discussion on Sentiment and TF-IDF Correlation\n",
    "\n",
    "### Top Genres in Largest Communities\n",
    "**Community 0**: Dominated by `country`, `folk`, and `americana`. High diversity leads to mixed but mostly positive sentiment.\n",
    "**Community 1**: Emphasizes `country music`, `bluegrass`, and `comedy`, resulting in a generally positive tone.\n",
    "**Community 3**: Focuses on `observational comedy` and `satire`, leading to a distinct humorous sentiment.\n",
    "**Community 6**: Centered on `country and irish`, with a specific cultural focus.\n",
    "**Community 2**: Defined by `australian country`, reflecting regional cohesion.\n",
    "\n",
    "## Sentiment and TF-IDF Correlation\n",
    "- **Genre Influence**: High TF-IDF genres (e.g., `country`, `bluegrass`) strongly shape each community's identity and sentiment. Communities with diverse genres tend to have balanced sentiments, while niche genres show polarized sentiments.\n",
    "- **Community Cohesion**: Homophily is evident in smaller communities formed around specific genres, indicating strong cohesion. Broader genres lead to larger, more diverse communities with mixed sentiments.\n"
   ]
  },
  {
   "cell_type": "markdown",
   "metadata": {},
   "source": [
    "## Observations and Insights\n",
    "**Positive Sentiments**: Communities with higher average sentiment scores are generally associated with genres that evoke positive emotions (e.g., \"love\", \"happiness\")\",\n",
    "**Neutral to Low Sentiments**: Communities with lower average sentiment scores tend to have a more neutral or melancholic tone. This is often seen in smaller, more specialized genre clusters\n",
    "\n",
    "The artist-genre network reveals how artists are grouped based on genre associations and community sentiment. Community detection using the **Girvan-Newman algorithm** effectively identified clusters that share similar genres, while sentiment analysis provided insights into the general emotional tone of these communities\n",
    "\n",
    "The combination of community detection and sentiment analysis allows us to understand both **structural relationships** in the artist-genre network and the **emotional impact** of genre associations.\n",
    "   "
   ]
  },
  {
   "cell_type": "code",
   "execution_count": null,
   "metadata": {},
   "outputs": [],
   "source": []
  },
  {
   "cell_type": "code",
   "execution_count": null,
   "metadata": {},
   "outputs": [],
   "source": []
  }
 ],
 "metadata": {
  "anaconda-cloud": {},
  "kernelspec": {
   "display_name": "Python 3 (ipykernel)",
   "language": "python",
   "name": "python3"
  },
  "language_info": {
   "codemirror_mode": {
    "name": "ipython",
    "version": 3
   },
   "file_extension": ".py",
   "mimetype": "text/x-python",
   "name": "python",
   "nbconvert_exporter": "python",
   "pygments_lexer": "ipython3",
   "version": "3.11.4"
  }
 },
 "nbformat": 4,
 "nbformat_minor": 4
}
