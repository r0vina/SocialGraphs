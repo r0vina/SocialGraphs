{
 "cells": [
  {
   "cell_type": "markdown",
   "metadata": {},
   "source": [
    "# Formalia:\n",
    "\n",
    "Please read the [assignment overview page](https://github.com/SocialComplexityLab/socialgraphs2024/wiki/Assignments) carefully before proceeding. This page contains information about formatting (including formats etc), group sizes, and many other aspects of handing in the assignment. \n",
    "\n",
    "_If you fail to follow these simple instructions, it will negatively impact your grade!_\n",
    "\n",
    "**Due date and time**: The assignment is due on Tuesday November 5th, 2024 at 23:55. Hand in your IPython notebook file (with extension `.ipynb`) via DTU Learn"
   ]
  },
  {
   "cell_type": "markdown",
   "metadata": {},
   "source": [
    "In the exercises below, I describe the exercises in a general way. Drawing in the right parts of the exercises is part of the assignment. (That way we're helping you get a little bit more ready for the Final Project, where you have to decide what information to include in your report and analysis). \n",
    "\n",
    "\n",
    "# Part 1: Genres and communities and plotting \n",
    "\n",
    "The questions below are based on Lecture 7, part 2.\n",
    "\n",
    "* Write about genres and modularity.\n",
    "* Detect the communities, discuss the value of modularity in comparison to the genres.\n",
    "* Calculate the matrix $D$ and discuss your findings.\n",
    "* Plot the communities and comment on your results.\n",
    "\n",
    "# Part 2: TF-IDF to understand genres and communities \n",
    "\n",
    "The questions below  are based on Lecture 7, part 2 and 3.\n",
    "\n",
    "* Explain the concept of TF-IDF in your own words and how it can help you understand the genres and communities.\n",
    "* Calculate and visualize TF-IDF for the genres and communities.\n",
    "* Use the matrix $D$ (Lecture 7, part 2) to dicusss the difference between the word-clouds between genres and communities.\n",
    "\n",
    "# Part 3: Sentiment of the artists and communities\n",
    "\n",
    "The questions below are based on Lecture 8\n",
    "\n",
    "* Calculate the sentiment of the Artists pages (OK to work with the sub-network of artists-with-genre) and describe your findings using stats and visualization, inspired by the first exercise of week 8.\n",
    "* Discuss the sentiment of the largest communities. Do the findings using TF-IDF during Lecture 7 help you understand your results?"
   ]
  },
  {
   "cell_type": "code",
   "execution_count": null,
   "metadata": {},
   "outputs": [],
   "source": [
    "import json\n",
    "import networkx as nx\n",
    "import re\n",
    "import matplotlib.pyplot as plt\n",
    "import seaborn as sns\n",
    "\n",
    "# Load LabMT dictionary from previous function\n",
    "labmt_dict = load_labmt_word_list('Data_Set_S1.txt')\n",
    "\n",
    "# Load the genres dataset\n",
    "with open('genres.txt', 'r') as f:\n",
    "    genres_data = json.load(f)\n",
    "\n",
    "# Initialize directed graph\n",
    "G = nx.DiGraph()\n",
    "\n",
    "# Tokenize function (for genres)\n",
    "def tokenize_genres(genres):\n",
    "    tokens = []\n",
    "    for genre in genres:\n",
    "        tokens.extend(re.findall(r'\\b\\w+\\b', genre.lower()))\n",
    "    return tokens\n",
    "\n",
    "# Calculate sentiment for each artist's genres and add it as node attribute\n",
    "for artist, genres in genres_data.items():\n",
    "    tokens = tokenize_genres(genres)\n",
    "    sentiment_score = calculate_sentiment(tokens, labmt_dict)\n",
    "    G.add_node(artist, genres=genres, sentiment=sentiment_score)\n",
    "\n",
    "# Calculate statistics\n",
    "sentiments = [data['sentiment'] for _, data in G.nodes(data=True)]\n",
    "mean_sentiment = sum(sentiments) / len(sentiments)\n",
    "median_sentiment = sorted(sentiments)[len(sentiments) // 2]\n",
    "std_dev_sentiment = (sum((x - mean_sentiment) ** 2 for x in sentiments) / len(sentiments)) ** 0.5\n",
    "\n",
    "print(f\"Mean Sentiment: {mean_sentiment}\")\n",
    "print(f\"Median Sentiment: {median_sentiment}\")\n",
    "print(f\"Standard Deviation of Sentiment: {std_dev_sentiment}\")\n",
    "\n",
    "# Plotting sentiment distribution\n",
    "sns.histplot(sentiments, kde=True)\n",
    "plt.xlabel('Sentiment Score')\n",
    "plt.ylabel('Frequency')\n",
    "plt.title('Distribution of Sentiment Scores for Artists based on Genres')\n",
    "plt.show()\n"
   ]
  }
 ],
 "metadata": {
  "anaconda-cloud": {},
  "kernelspec": {
   "display_name": "Python 3 (ipykernel)",
   "language": "python",
   "name": "python3"
  },
  "language_info": {
   "codemirror_mode": {
    "name": "ipython",
    "version": 3
   },
   "file_extension": ".py",
   "mimetype": "text/x-python",
   "name": "python",
   "nbconvert_exporter": "python",
   "pygments_lexer": "ipython3",
   "version": "3.9.19"
  }
 },
 "nbformat": 4,
 "nbformat_minor": 4
}
